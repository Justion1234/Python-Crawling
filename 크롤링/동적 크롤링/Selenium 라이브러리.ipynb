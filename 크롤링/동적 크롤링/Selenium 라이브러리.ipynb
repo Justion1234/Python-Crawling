{
 "cells": [
  {
   "cell_type": "markdown",
   "id": "e0c94380",
   "metadata": {},
   "source": [
    "Selenium 라이브러리를 통해 웹브라우저를 자동제어를 해줄 것입니다."
   ]
  },
  {
   "cell_type": "markdown",
   "id": "0d833fa5",
   "metadata": {},
   "source": [
    "# Selenium 라이브러리\n",
    "- 웹브라우저를 자동으로 제어하는 라이브러리\n",
    "- 반드시 한번 설치가 필요!\n",
    "- webdriver = 브라우저의 역할을 해주는 라이브러리\n",
    "- Keys = 컴퓨터에게 키보드 역할을 해주는 라이브러리\n"
   ]
  },
  {
   "cell_type": "code",
   "execution_count": 3,
   "id": "a2d72e26",
   "metadata": {},
   "outputs": [
    {
     "name": "stdout",
     "output_type": "stream",
     "text": [
      "Requirement already satisfied: selenium in c:\\users\\user\\anaconda3\\lib\\site-packages (4.2.0)\n",
      "Requirement already satisfied: trio-websocket~=0.9 in c:\\users\\user\\anaconda3\\lib\\site-packages (from selenium) (0.9.2)\n",
      "Requirement already satisfied: urllib3[secure,socks]~=1.26 in c:\\users\\user\\anaconda3\\lib\\site-packages (from selenium) (1.26.7)\n",
      "Requirement already satisfied: trio~=0.17 in c:\\users\\user\\anaconda3\\lib\\site-packages (from selenium) (0.21.0)\n",
      "Requirement already satisfied: outcome in c:\\users\\user\\anaconda3\\lib\\site-packages (from trio~=0.17->selenium) (1.1.0)\n",
      "Requirement already satisfied: async-generator>=1.9 in c:\\users\\user\\anaconda3\\lib\\site-packages (from trio~=0.17->selenium) (1.10)\n",
      "Requirement already satisfied: idna in c:\\users\\user\\anaconda3\\lib\\site-packages (from trio~=0.17->selenium) (3.2)\n",
      "Requirement already satisfied: attrs>=19.2.0 in c:\\users\\user\\anaconda3\\lib\\site-packages (from trio~=0.17->selenium) (21.2.0)\n",
      "Requirement already satisfied: sortedcontainers in c:\\users\\user\\anaconda3\\lib\\site-packages (from trio~=0.17->selenium) (2.4.0)\n",
      "Requirement already satisfied: sniffio in c:\\users\\user\\anaconda3\\lib\\site-packages (from trio~=0.17->selenium) (1.2.0)\n",
      "Requirement already satisfied: cffi>=1.14 in c:\\users\\user\\anaconda3\\lib\\site-packages (from trio~=0.17->selenium) (1.14.6)\n",
      "Requirement already satisfied: pycparser in c:\\users\\user\\anaconda3\\lib\\site-packages (from cffi>=1.14->trio~=0.17->selenium) (2.20)\n",
      "Requirement already satisfied: wsproto>=0.14 in c:\\users\\user\\anaconda3\\lib\\site-packages (from trio-websocket~=0.9->selenium) (1.1.0)\n",
      "Requirement already satisfied: PySocks!=1.5.7,<2.0,>=1.5.6 in c:\\users\\user\\anaconda3\\lib\\site-packages (from urllib3[secure,socks]~=1.26->selenium) (1.7.1)\n",
      "Requirement already satisfied: pyOpenSSL>=0.14 in c:\\users\\user\\anaconda3\\lib\\site-packages (from urllib3[secure,socks]~=1.26->selenium) (21.0.0)\n",
      "Requirement already satisfied: cryptography>=1.3.4 in c:\\users\\user\\anaconda3\\lib\\site-packages (from urllib3[secure,socks]~=1.26->selenium) (3.4.8)\n",
      "Requirement already satisfied: certifi in c:\\users\\user\\anaconda3\\lib\\site-packages (from urllib3[secure,socks]~=1.26->selenium) (2021.10.8)\n",
      "Requirement already satisfied: six>=1.5.2 in c:\\users\\user\\anaconda3\\lib\\site-packages (from pyOpenSSL>=0.14->urllib3[secure,socks]~=1.26->selenium) (1.16.0)\n",
      "Requirement already satisfied: h11<1,>=0.9.0 in c:\\users\\user\\anaconda3\\lib\\site-packages (from wsproto>=0.14->trio-websocket~=0.9->selenium) (0.13.0)\n"
     ]
    }
   ],
   "source": [
    "!pip install selenium"
   ]
  },
  {
   "cell_type": "code",
   "execution_count": 2,
   "id": "e5b74f61",
   "metadata": {},
   "outputs": [],
   "source": [
    "from selenium import webdriver as wb\n",
    "from selenium.webdriver.common.keys import Keys"
   ]
  },
  {
   "cell_type": "markdown",
   "id": "8efa9e79",
   "metadata": {},
   "source": [
    "저는 크롬 버전이 104때여서\n",
    "크롬 드라이버를 104때 버전을 다운로드 받아줬습니다."
   ]
  },
  {
   "cell_type": "code",
   "execution_count": 3,
   "id": "5cb75ede",
   "metadata": {},
   "outputs": [
    {
     "data": {
      "text/plain": [
       "<selenium.webdriver.chrome.webdriver.WebDriver (session=\"699e29893f4f524781a49c63fb2882c5\")>"
      ]
     },
     "execution_count": 3,
     "metadata": {},
     "output_type": "execute_result"
    }
   ],
   "source": [
    "# 컴퓨터야 wb을 통해서 크롬부라우저좀 실행 시켜줘~\n",
    "wb.Chrome() #파이썬 코드를 통해서 실행한 브라우저"
   ]
  },
  {
   "cell_type": "code",
   "execution_count": 4,
   "id": "12386459",
   "metadata": {},
   "outputs": [],
   "source": [
    "driver = wb.Chrome()\n",
    "driver.get(\"http://www.naver.com\")\n",
    "\n",
    "#이제는 네이버 페이지가 열려있는 것을 알 수 있습니다."
   ]
  },
  {
   "cell_type": "markdown",
   "id": "0e52cac0",
   "metadata": {},
   "source": [
    "크롬창을 실행하는 명령어는 wb.Chrome()\n",
    ".get(\"URL\") -> 원하는 페이지의 URL만 입력하시면 내가 가지고 오고싶은 페이지를 들고 올 수 있습니다."
   ]
  },
  {
   "cell_type": "code",
   "execution_count": 16,
   "id": "27c6cddc",
   "metadata": {},
   "outputs": [
    {
     "name": "stderr",
     "output_type": "stream",
     "text": [
      "C:\\Users\\Public\\Documents\\ESTsoft\\CreatorTemp/ipykernel_4220/1706966886.py:2: DeprecationWarning: find_element_by_* commands are deprecated. Please use find_element() instead\n",
      "  search = driver.find_element_by_id(\"query\")\n"
     ]
    }
   ],
   "source": [
    "#드라이버야 내가 아이디가 query 요소좀 찾아줘\n",
    "search = driver.find_element_by_id(\"query\")"
   ]
  },
  {
   "cell_type": "code",
   "execution_count": 17,
   "id": "7f0c004d",
   "metadata": {},
   "outputs": [],
   "source": [
    "# serch검색창한테 코로나라는 글자 보내줘~\n",
    "# 키 값을 보내는 경우에는 send_keys()\n",
    "search.send_keys(\"코로나\")"
   ]
  },
  {
   "cell_type": "code",
   "execution_count": 11,
   "id": "0035e5c9",
   "metadata": {},
   "outputs": [],
   "source": [
    "# 지금까지 그냥 검색어 부분에 코로나 글자만 치게했는데 요번에는 엔터 키를 치는 것을 해볼 것입니다.\n",
    "# 엔터를 치는 방법\n",
    "search.send_keys(Keys.ENTER)"
   ]
  },
  {
   "cell_type": "code",
   "execution_count": 12,
   "id": "f68eebcd",
   "metadata": {},
   "outputs": [],
   "source": [
    "# 뒤로가기 버튼 기능 실행 -> .back()\n",
    "driver.back()"
   ]
  },
  {
   "cell_type": "code",
   "execution_count": 21,
   "id": "228df409",
   "metadata": {},
   "outputs": [
    {
     "name": "stderr",
     "output_type": "stream",
     "text": [
      "C:\\Users\\Public\\Documents\\ESTsoft\\CreatorTemp/ipykernel_4220/2785916604.py:2: DeprecationWarning: find_element_by_* commands are deprecated. Please use find_element() instead\n",
      "  btn = driver.find_element_by_id(\"search_btn\")\n"
     ]
    }
   ],
   "source": [
    "#클릭을 하는 방법\n",
    "btn = driver.find_element_by_id(\"search_btn\")"
   ]
  },
  {
   "cell_type": "code",
   "execution_count": 22,
   "id": "1ccfa245",
   "metadata": {},
   "outputs": [],
   "source": [
    "btn.click()"
   ]
  },
  {
   "cell_type": "code",
   "execution_count": 23,
   "id": "883ea155",
   "metadata": {},
   "outputs": [],
   "source": [
    "#브라우저에서 X버튼을 눌러서 브라우저를 닫아주려하는데 그것은 html 태그가 아니고 브라우저가 가지고 있는 \n",
    "#하나의 기능이여서 X버튼을 통해서 못 닫아준다.\n",
    "\n",
    "#그래서 창을 종료하는 방법은 버튼을 클릭하면서 종료하는 것이 아니다.\n",
    "driver.quit()"
   ]
  }
 ],
 "metadata": {
  "kernelspec": {
   "display_name": "Python 3 (ipykernel)",
   "language": "python",
   "name": "python3"
  },
  "language_info": {
   "codemirror_mode": {
    "name": "ipython",
    "version": 3
   },
   "file_extension": ".py",
   "mimetype": "text/x-python",
   "name": "python",
   "nbconvert_exporter": "python",
   "pygments_lexer": "ipython3",
   "version": "3.9.7"
  }
 },
 "nbformat": 4,
 "nbformat_minor": 5
}
