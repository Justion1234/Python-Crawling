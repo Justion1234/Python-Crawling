{
 "cells": [
  {
   "cell_type": "code",
   "execution_count": 34,
   "id": "076826f2",
   "metadata": {},
   "outputs": [],
   "source": [
    "from selenium import webdriver as wb\n",
    "from selenium.webdriver.common.keys import Keys\n",
    "import time\n",
    "import pandas as pd\n",
    "#이벤트를 제어하는 라이브러리\n",
    "# ex) 마우스를 올려두겠다. 클릭한 상태를 유지시키겠습니다. 드래그 앤 드롭\n",
    "from selenium.webdriver.common.action_chains import ActionChains"
   ]
  },
  {
   "cell_type": "code",
   "execution_count": 35,
   "id": "0673bd71",
   "metadata": {},
   "outputs": [],
   "source": [
    "driver = wb.Chrome()\n",
    "driver.get(\"https://www.hsd.co.kr/\")"
   ]
  },
  {
   "cell_type": "code",
   "execution_count": 36,
   "id": "4c163fa5",
   "metadata": {},
   "outputs": [
    {
     "name": "stderr",
     "output_type": "stream",
     "text": [
      "C:\\Users\\Public\\Documents\\ESTsoft\\CreatorTemp/ipykernel_24564/2481581872.py:5: DeprecationWarning: find_element_by_css_selector is deprecated. Please use find_element(by=By.CSS_SELECTOR, value=css_selector) instead\n",
      "  elm_hover = driver.find_element_by_css_selector(\"#gnb > div.gnb_menu > ul > li:nth-child(3) > p > a\")\n",
      "C:\\Users\\Public\\Documents\\ESTsoft\\CreatorTemp/ipykernel_24564/2481581872.py:6: DeprecationWarning: find_element_by_css_selector is deprecated. Please use find_element(by=By.CSS_SELECTOR, value=css_selector) instead\n",
      "  elm_click = driver.find_element_by_css_selector(\"#gnb > div.gnb_menu > ul > li:nth-child(3) > div > ul > li:nth-child(1) > a\")\n"
     ]
    }
   ],
   "source": [
    "#가져올 요소들\n",
    "\n",
    "#1. 마우스를 올릴 요소(메뉴)\n",
    "#2. 클릭할 요소(전체 메뉴)\n",
    "elm_hover = driver.find_element_by_css_selector(\"#gnb > div.gnb_menu > ul > li:nth-child(3) > p > a\")\n",
    "elm_click = driver.find_element_by_css_selector(\"#gnb > div.gnb_menu > ul > li:nth-child(3) > div > ul > li:nth-child(1) > a\")\n",
    "                                              "
   ]
  },
  {
   "cell_type": "code",
   "execution_count": 37,
   "id": "cb9f3612",
   "metadata": {},
   "outputs": [],
   "source": [
    "#actions에는 제가 드라이버를 통해서 제어할 수 있게 담아 놓은 하나의 하나의 공간입니다.\n",
    "actions = ActionChains(driver)\n",
    "actions.move_to_element(elm_hover)\n",
    "actions.click(elm_click)\n",
    "actions.perform( )"
   ]
  },
  {
   "cell_type": "code",
   "execution_count": 38,
   "id": "ed3fc84c",
   "metadata": {},
   "outputs": [
    {
     "name": "stderr",
     "output_type": "stream",
     "text": [
      "C:\\Users\\Public\\Documents\\ESTsoft\\CreatorTemp/ipykernel_24564/3769093897.py:1: DeprecationWarning: find_elements_by_css_selector is deprecated. Please use find_elements(by=By.CSS_SELECTOR, value=css_selector) instead\n",
      "  title = driver.find_elements_by_css_selector(\"h4.h.fz_03\")\n"
     ]
    }
   ],
   "source": [
    "title = driver.find_elements_by_css_selector(\"h4.h.fz_03\")"
   ]
  },
  {
   "cell_type": "code",
   "execution_count": 39,
   "id": "c480887d",
   "metadata": {},
   "outputs": [
    {
     "data": {
      "text/plain": [
       "[<selenium.webdriver.remote.webelement.WebElement (session=\"923ba8d7269451109fbd0f3b50f2104e\", element=\"91757e92-2eea-411e-8579-0620388175e4\")>,\n",
       " <selenium.webdriver.remote.webelement.WebElement (session=\"923ba8d7269451109fbd0f3b50f2104e\", element=\"1d7e8db6-bb42-468d-9325-5291c2a20c19\")>,\n",
       " <selenium.webdriver.remote.webelement.WebElement (session=\"923ba8d7269451109fbd0f3b50f2104e\", element=\"6641d992-38e7-4495-8beb-e5dcc399f102\")>,\n",
       " <selenium.webdriver.remote.webelement.WebElement (session=\"923ba8d7269451109fbd0f3b50f2104e\", element=\"b9cc6dad-f90b-4931-b55a-c7cd56104aca\")>,\n",
       " <selenium.webdriver.remote.webelement.WebElement (session=\"923ba8d7269451109fbd0f3b50f2104e\", element=\"d1b5a500-9454-47bd-a8c0-e691918c6768\")>,\n",
       " <selenium.webdriver.remote.webelement.WebElement (session=\"923ba8d7269451109fbd0f3b50f2104e\", element=\"28dfa711-2491-434e-b473-d18f7710d2bc\")>,\n",
       " <selenium.webdriver.remote.webelement.WebElement (session=\"923ba8d7269451109fbd0f3b50f2104e\", element=\"330401ba-a9ad-40a1-bf21-697aef6e70e0\")>,\n",
       " <selenium.webdriver.remote.webelement.WebElement (session=\"923ba8d7269451109fbd0f3b50f2104e\", element=\"140b76b3-b327-4fbd-ac03-6f3d1829be03\")>,\n",
       " <selenium.webdriver.remote.webelement.WebElement (session=\"923ba8d7269451109fbd0f3b50f2104e\", element=\"197a532a-7ef8-4d75-931c-cc809adc15c0\")>,\n",
       " <selenium.webdriver.remote.webelement.WebElement (session=\"923ba8d7269451109fbd0f3b50f2104e\", element=\"9404fb93-4221-4fb0-b77c-50e0164ddf1d\")>,\n",
       " <selenium.webdriver.remote.webelement.WebElement (session=\"923ba8d7269451109fbd0f3b50f2104e\", element=\"c460f99e-7073-458d-97f7-7149c5c04626\")>,\n",
       " <selenium.webdriver.remote.webelement.WebElement (session=\"923ba8d7269451109fbd0f3b50f2104e\", element=\"450aecac-8044-4e24-9982-5afd57b9cd6d\")>,\n",
       " <selenium.webdriver.remote.webelement.WebElement (session=\"923ba8d7269451109fbd0f3b50f2104e\", element=\"85e5ef02-7d43-4d6e-b105-4f940928b9d3\")>]"
      ]
     },
     "execution_count": 39,
     "metadata": {},
     "output_type": "execute_result"
    }
   ],
   "source": [
    "title\n",
    "#결과 보면 여러개의 데이터가 넘어온 것을 확인하실 수 있습니다. 저희가 복수개의 데이터를 요청했기 때문입니다."
   ]
  },
  {
   "cell_type": "code",
   "execution_count": 40,
   "id": "5538b367",
   "metadata": {},
   "outputs": [
    {
     "data": {
      "text/plain": [
       "'[행사] 숯불직화구이 덮밥'"
      ]
     },
     "execution_count": 40,
     "metadata": {},
     "output_type": "execute_result"
    }
   ],
   "source": [
    "title[0].text"
   ]
  },
  {
   "cell_type": "code",
   "execution_count": 44,
   "id": "7bdf3aa3",
   "metadata": {},
   "outputs": [
    {
     "name": "stderr",
     "output_type": "stream",
     "text": [
      "C:\\Users\\Public\\Documents\\ESTsoft\\CreatorTemp/ipykernel_24564/3962881029.py:1: DeprecationWarning: find_elements_by_css_selector is deprecated. Please use find_elements(by=By.CSS_SELECTOR, value=css_selector) instead\n",
      "  price = driver.find_elements_by_css_selector(\"div.item-price > strong\")\n"
     ]
    }
   ],
   "source": [
    "price = driver.find_elements_by_css_selector(\"div.item-price > strong\")"
   ]
  },
  {
   "cell_type": "code",
   "execution_count": 45,
   "id": "697aa218",
   "metadata": {},
   "outputs": [
    {
     "data": {
      "text/plain": [
       "'4,900'"
      ]
     },
     "execution_count": 45,
     "metadata": {},
     "output_type": "execute_result"
    }
   ],
   "source": [
    "price[0].text"
   ]
  },
  {
   "cell_type": "code",
   "execution_count": 46,
   "id": "def640a0",
   "metadata": {},
   "outputs": [
    {
     "data": {
      "text/plain": [
       "13"
      ]
     },
     "execution_count": 46,
     "metadata": {},
     "output_type": "execute_result"
    }
   ],
   "source": [
    "len(price)"
   ]
  },
  {
   "cell_type": "code",
   "execution_count": 47,
   "id": "3cfd6e02",
   "metadata": {},
   "outputs": [
    {
     "name": "stderr",
     "output_type": "stream",
     "text": [
      "C:\\Users\\Public\\Documents\\ESTsoft\\CreatorTemp/ipykernel_24564/899965516.py:3: DeprecationWarning: find_element_by_css_selector is deprecated. Please use find_element(by=By.CSS_SELECTOR, value=css_selector) instead\n",
      "  btnMore = driver.find_element_by_css_selector(\"a.c_05\")\n"
     ]
    }
   ],
   "source": [
    "#더보기 버튼의 위치를 알려주기\n",
    "#클릭하기 위해서\n",
    "btnMore = driver.find_element_by_css_selector(\"a.c_05\")\n",
    "btnMore.click()"
   ]
  },
  {
   "cell_type": "code",
   "execution_count": 48,
   "id": "523831fc",
   "metadata": {},
   "outputs": [
    {
     "name": "stderr",
     "output_type": "stream",
     "text": [
      "C:\\Users\\Public\\Documents\\ESTsoft\\CreatorTemp/ipykernel_24564/696617433.py:1: DeprecationWarning: find_elements_by_css_selector is deprecated. Please use find_elements(by=By.CSS_SELECTOR, value=css_selector) instead\n",
      "  price = driver.find_elements_by_css_selector(\"div.item-price > strong\")\n"
     ]
    },
    {
     "data": {
      "text/plain": [
       "16"
      ]
     },
     "execution_count": 48,
     "metadata": {},
     "output_type": "execute_result"
    }
   ],
   "source": [
    "price = driver.find_elements_by_css_selector(\"div.item-price > strong\")\n",
    "len(price)\n",
    "#더보기 버튼을 누른 이후에 더 많은 상품 개수 정보들을 가져온 것을 확인할 수 있습니다."
   ]
  },
  {
   "cell_type": "code",
   "execution_count": 49,
   "id": "c7e361d5",
   "metadata": {},
   "outputs": [
    {
     "name": "stderr",
     "output_type": "stream",
     "text": [
      "C:\\Users\\Public\\Documents\\ESTsoft\\CreatorTemp/ipykernel_24564/2671211877.py:2: DeprecationWarning: find_element_by_css_selector is deprecated. Please use find_element(by=By.CSS_SELECTOR, value=css_selector) instead\n",
      "  btnMore = driver.find_element_by_css_selector(\"a.c_05\")\n"
     ]
    },
    {
     "name": "stdout",
     "output_type": "stream",
     "text": [
      "출력\n",
      "출력\n",
      "출력\n"
     ]
    },
    {
     "ename": "ElementNotInteractableException",
     "evalue": "Message: element not interactable\n  (Session info: chrome=104.0.5112.81)\nStacktrace:\nBacktrace:\n\tOrdinal0 [0x010F8823+2197539]\n\tOrdinal0 [0x01090911+1771793]\n\tOrdinal0 [0x00FA3EB0+802480]\n\tOrdinal0 [0x00FD33A3+996259]\n\tOrdinal0 [0x00FC9093+954515]\n\tOrdinal0 [0x00FED65C+1103452]\n\tOrdinal0 [0x00FC8A74+952948]\n\tOrdinal0 [0x00FED874+1103988]\n\tOrdinal0 [0x00FFDA72+1170034]\n\tOrdinal0 [0x00FED476+1102966]\n\tOrdinal0 [0x00FC7660+947808]\n\tOrdinal0 [0x00FC8556+951638]\n\tGetHandleVerifier [0x013A1A32+2740578]\n\tGetHandleVerifier [0x01393776+2682534]\n\tGetHandleVerifier [0x0118307A+518058]\n\tGetHandleVerifier [0x01182196+514246]\n\tOrdinal0 [0x01097ADB+1800923]\n\tOrdinal0 [0x0109C2E8+1819368]\n\tOrdinal0 [0x0109C3D5+1819605]\n\tOrdinal0 [0x010A5810+1857552]\n\tBaseThreadInitThunk [0x7562FA29+25]\n\tRtlGetAppContainerNamedObjectPath [0x77757A9E+286]\n\tRtlGetAppContainerNamedObjectPath [0x77757A6E+238]\n",
     "output_type": "error",
     "traceback": [
      "\u001b[1;31m---------------------------------------------------------------------------\u001b[0m",
      "\u001b[1;31mElementNotInteractableException\u001b[0m           Traceback (most recent call last)",
      "\u001b[1;32mC:\\Users\\Public\\Documents\\ESTsoft\\CreatorTemp/ipykernel_24564/2671211877.py\u001b[0m in \u001b[0;36m<module>\u001b[1;34m\u001b[0m\n\u001b[0;32m      1\u001b[0m \u001b[1;32mfor\u001b[0m \u001b[0mi\u001b[0m \u001b[1;32min\u001b[0m \u001b[0mrange\u001b[0m\u001b[1;33m(\u001b[0m\u001b[1;36m10\u001b[0m\u001b[1;33m)\u001b[0m\u001b[1;33m:\u001b[0m\u001b[1;33m\u001b[0m\u001b[1;33m\u001b[0m\u001b[0m\n\u001b[0;32m      2\u001b[0m     \u001b[0mbtnMore\u001b[0m \u001b[1;33m=\u001b[0m \u001b[0mdriver\u001b[0m\u001b[1;33m.\u001b[0m\u001b[0mfind_element_by_css_selector\u001b[0m\u001b[1;33m(\u001b[0m\u001b[1;34m\"a.c_05\"\u001b[0m\u001b[1;33m)\u001b[0m\u001b[1;33m\u001b[0m\u001b[1;33m\u001b[0m\u001b[0m\n\u001b[1;32m----> 3\u001b[1;33m     \u001b[0mbtnMore\u001b[0m\u001b[1;33m.\u001b[0m\u001b[0mclick\u001b[0m\u001b[1;33m(\u001b[0m\u001b[1;33m)\u001b[0m\u001b[1;33m\u001b[0m\u001b[1;33m\u001b[0m\u001b[0m\n\u001b[0m\u001b[0;32m      4\u001b[0m     \u001b[1;31m#time.sleep(\"몇초\") = 몇초동안 코드를 멈추겠다!\u001b[0m\u001b[1;33m\u001b[0m\u001b[1;33m\u001b[0m\u001b[0m\n\u001b[0;32m      5\u001b[0m     \u001b[0mtime\u001b[0m\u001b[1;33m.\u001b[0m\u001b[0msleep\u001b[0m\u001b[1;33m(\u001b[0m\u001b[1;36m2\u001b[0m\u001b[1;33m)\u001b[0m\u001b[1;33m\u001b[0m\u001b[1;33m\u001b[0m\u001b[0m\n",
      "\u001b[1;32m~\\anaconda3\\lib\\site-packages\\selenium\\webdriver\\remote\\webelement.py\u001b[0m in \u001b[0;36mclick\u001b[1;34m(self)\u001b[0m\n\u001b[0;32m     87\u001b[0m     \u001b[1;32mdef\u001b[0m \u001b[0mclick\u001b[0m\u001b[1;33m(\u001b[0m\u001b[0mself\u001b[0m\u001b[1;33m)\u001b[0m \u001b[1;33m->\u001b[0m \u001b[1;32mNone\u001b[0m\u001b[1;33m:\u001b[0m\u001b[1;33m\u001b[0m\u001b[1;33m\u001b[0m\u001b[0m\n\u001b[0;32m     88\u001b[0m         \u001b[1;34m\"\"\"Clicks the element.\"\"\"\u001b[0m\u001b[1;33m\u001b[0m\u001b[1;33m\u001b[0m\u001b[0m\n\u001b[1;32m---> 89\u001b[1;33m         \u001b[0mself\u001b[0m\u001b[1;33m.\u001b[0m\u001b[0m_execute\u001b[0m\u001b[1;33m(\u001b[0m\u001b[0mCommand\u001b[0m\u001b[1;33m.\u001b[0m\u001b[0mCLICK_ELEMENT\u001b[0m\u001b[1;33m)\u001b[0m\u001b[1;33m\u001b[0m\u001b[1;33m\u001b[0m\u001b[0m\n\u001b[0m\u001b[0;32m     90\u001b[0m \u001b[1;33m\u001b[0m\u001b[0m\n\u001b[0;32m     91\u001b[0m     \u001b[1;32mdef\u001b[0m \u001b[0msubmit\u001b[0m\u001b[1;33m(\u001b[0m\u001b[0mself\u001b[0m\u001b[1;33m)\u001b[0m\u001b[1;33m:\u001b[0m\u001b[1;33m\u001b[0m\u001b[1;33m\u001b[0m\u001b[0m\n",
      "\u001b[1;32m~\\anaconda3\\lib\\site-packages\\selenium\\webdriver\\remote\\webelement.py\u001b[0m in \u001b[0;36m_execute\u001b[1;34m(self, command, params)\u001b[0m\n\u001b[0;32m    771\u001b[0m             \u001b[0mparams\u001b[0m \u001b[1;33m=\u001b[0m \u001b[1;33m{\u001b[0m\u001b[1;33m}\u001b[0m\u001b[1;33m\u001b[0m\u001b[1;33m\u001b[0m\u001b[0m\n\u001b[0;32m    772\u001b[0m         \u001b[0mparams\u001b[0m\u001b[1;33m[\u001b[0m\u001b[1;34m'id'\u001b[0m\u001b[1;33m]\u001b[0m \u001b[1;33m=\u001b[0m \u001b[0mself\u001b[0m\u001b[1;33m.\u001b[0m\u001b[0m_id\u001b[0m\u001b[1;33m\u001b[0m\u001b[1;33m\u001b[0m\u001b[0m\n\u001b[1;32m--> 773\u001b[1;33m         \u001b[1;32mreturn\u001b[0m \u001b[0mself\u001b[0m\u001b[1;33m.\u001b[0m\u001b[0m_parent\u001b[0m\u001b[1;33m.\u001b[0m\u001b[0mexecute\u001b[0m\u001b[1;33m(\u001b[0m\u001b[0mcommand\u001b[0m\u001b[1;33m,\u001b[0m \u001b[0mparams\u001b[0m\u001b[1;33m)\u001b[0m\u001b[1;33m\u001b[0m\u001b[1;33m\u001b[0m\u001b[0m\n\u001b[0m\u001b[0;32m    774\u001b[0m \u001b[1;33m\u001b[0m\u001b[0m\n\u001b[0;32m    775\u001b[0m     \u001b[1;32mdef\u001b[0m \u001b[0mfind_element\u001b[0m\u001b[1;33m(\u001b[0m\u001b[0mself\u001b[0m\u001b[1;33m,\u001b[0m \u001b[0mby\u001b[0m\u001b[1;33m=\u001b[0m\u001b[0mBy\u001b[0m\u001b[1;33m.\u001b[0m\u001b[0mID\u001b[0m\u001b[1;33m,\u001b[0m \u001b[0mvalue\u001b[0m\u001b[1;33m=\u001b[0m\u001b[1;32mNone\u001b[0m\u001b[1;33m)\u001b[0m\u001b[1;33m:\u001b[0m\u001b[1;33m\u001b[0m\u001b[1;33m\u001b[0m\u001b[0m\n",
      "\u001b[1;32m~\\anaconda3\\lib\\site-packages\\selenium\\webdriver\\remote\\webdriver.py\u001b[0m in \u001b[0;36mexecute\u001b[1;34m(self, driver_command, params)\u001b[0m\n\u001b[0;32m    428\u001b[0m         \u001b[0mresponse\u001b[0m \u001b[1;33m=\u001b[0m \u001b[0mself\u001b[0m\u001b[1;33m.\u001b[0m\u001b[0mcommand_executor\u001b[0m\u001b[1;33m.\u001b[0m\u001b[0mexecute\u001b[0m\u001b[1;33m(\u001b[0m\u001b[0mdriver_command\u001b[0m\u001b[1;33m,\u001b[0m \u001b[0mparams\u001b[0m\u001b[1;33m)\u001b[0m\u001b[1;33m\u001b[0m\u001b[1;33m\u001b[0m\u001b[0m\n\u001b[0;32m    429\u001b[0m         \u001b[1;32mif\u001b[0m \u001b[0mresponse\u001b[0m\u001b[1;33m:\u001b[0m\u001b[1;33m\u001b[0m\u001b[1;33m\u001b[0m\u001b[0m\n\u001b[1;32m--> 430\u001b[1;33m             \u001b[0mself\u001b[0m\u001b[1;33m.\u001b[0m\u001b[0merror_handler\u001b[0m\u001b[1;33m.\u001b[0m\u001b[0mcheck_response\u001b[0m\u001b[1;33m(\u001b[0m\u001b[0mresponse\u001b[0m\u001b[1;33m)\u001b[0m\u001b[1;33m\u001b[0m\u001b[1;33m\u001b[0m\u001b[0m\n\u001b[0m\u001b[0;32m    431\u001b[0m             response['value'] = self._unwrap_value(\n\u001b[0;32m    432\u001b[0m                 response.get('value', None))\n",
      "\u001b[1;32m~\\anaconda3\\lib\\site-packages\\selenium\\webdriver\\remote\\errorhandler.py\u001b[0m in \u001b[0;36mcheck_response\u001b[1;34m(self, response)\u001b[0m\n\u001b[0;32m    245\u001b[0m                 \u001b[0malert_text\u001b[0m \u001b[1;33m=\u001b[0m \u001b[0mvalue\u001b[0m\u001b[1;33m[\u001b[0m\u001b[1;34m'alert'\u001b[0m\u001b[1;33m]\u001b[0m\u001b[1;33m.\u001b[0m\u001b[0mget\u001b[0m\u001b[1;33m(\u001b[0m\u001b[1;34m'text'\u001b[0m\u001b[1;33m)\u001b[0m\u001b[1;33m\u001b[0m\u001b[1;33m\u001b[0m\u001b[0m\n\u001b[0;32m    246\u001b[0m             \u001b[1;32mraise\u001b[0m \u001b[0mexception_class\u001b[0m\u001b[1;33m(\u001b[0m\u001b[0mmessage\u001b[0m\u001b[1;33m,\u001b[0m \u001b[0mscreen\u001b[0m\u001b[1;33m,\u001b[0m \u001b[0mstacktrace\u001b[0m\u001b[1;33m,\u001b[0m \u001b[0malert_text\u001b[0m\u001b[1;33m)\u001b[0m  \u001b[1;31m# type: ignore[call-arg]  # mypy is not smart enough here\u001b[0m\u001b[1;33m\u001b[0m\u001b[1;33m\u001b[0m\u001b[0m\n\u001b[1;32m--> 247\u001b[1;33m         \u001b[1;32mraise\u001b[0m \u001b[0mexception_class\u001b[0m\u001b[1;33m(\u001b[0m\u001b[0mmessage\u001b[0m\u001b[1;33m,\u001b[0m \u001b[0mscreen\u001b[0m\u001b[1;33m,\u001b[0m \u001b[0mstacktrace\u001b[0m\u001b[1;33m)\u001b[0m\u001b[1;33m\u001b[0m\u001b[1;33m\u001b[0m\u001b[0m\n\u001b[0m\u001b[0;32m    248\u001b[0m \u001b[1;33m\u001b[0m\u001b[0m\n\u001b[0;32m    249\u001b[0m     \u001b[1;32mdef\u001b[0m \u001b[0m_value_or_default\u001b[0m\u001b[1;33m(\u001b[0m\u001b[0mself\u001b[0m\u001b[1;33m,\u001b[0m \u001b[0mobj\u001b[0m\u001b[1;33m:\u001b[0m \u001b[0mMapping\u001b[0m\u001b[1;33m[\u001b[0m\u001b[0m_KT\u001b[0m\u001b[1;33m,\u001b[0m \u001b[0m_VT\u001b[0m\u001b[1;33m]\u001b[0m\u001b[1;33m,\u001b[0m \u001b[0mkey\u001b[0m\u001b[1;33m:\u001b[0m \u001b[0m_KT\u001b[0m\u001b[1;33m,\u001b[0m \u001b[0mdefault\u001b[0m\u001b[1;33m:\u001b[0m \u001b[0m_VT\u001b[0m\u001b[1;33m)\u001b[0m \u001b[1;33m->\u001b[0m \u001b[0m_VT\u001b[0m\u001b[1;33m:\u001b[0m\u001b[1;33m\u001b[0m\u001b[1;33m\u001b[0m\u001b[0m\n",
      "\u001b[1;31mElementNotInteractableException\u001b[0m: Message: element not interactable\n  (Session info: chrome=104.0.5112.81)\nStacktrace:\nBacktrace:\n\tOrdinal0 [0x010F8823+2197539]\n\tOrdinal0 [0x01090911+1771793]\n\tOrdinal0 [0x00FA3EB0+802480]\n\tOrdinal0 [0x00FD33A3+996259]\n\tOrdinal0 [0x00FC9093+954515]\n\tOrdinal0 [0x00FED65C+1103452]\n\tOrdinal0 [0x00FC8A74+952948]\n\tOrdinal0 [0x00FED874+1103988]\n\tOrdinal0 [0x00FFDA72+1170034]\n\tOrdinal0 [0x00FED476+1102966]\n\tOrdinal0 [0x00FC7660+947808]\n\tOrdinal0 [0x00FC8556+951638]\n\tGetHandleVerifier [0x013A1A32+2740578]\n\tGetHandleVerifier [0x01393776+2682534]\n\tGetHandleVerifier [0x0118307A+518058]\n\tGetHandleVerifier [0x01182196+514246]\n\tOrdinal0 [0x01097ADB+1800923]\n\tOrdinal0 [0x0109C2E8+1819368]\n\tOrdinal0 [0x0109C3D5+1819605]\n\tOrdinal0 [0x010A5810+1857552]\n\tBaseThreadInitThunk [0x7562FA29+25]\n\tRtlGetAppContainerNamedObjectPath [0x77757A9E+286]\n\tRtlGetAppContainerNamedObjectPath [0x77757A6E+238]\n"
     ]
    }
   ],
   "source": [
    "for i in range(10):\n",
    "    btnMore = driver.find_element_by_css_selector(\"a.c_05\")\n",
    "    btnMore.click()\n",
    "    #time.sleep(\"몇초\") = 몇초동안 코드를 멈추겠다!\n",
    "    time.sleep(2)\n",
    "    print(\"출력\")\n",
    "    \n",
    "    \n",
    "#코드를 보면 10번 반복을 하는건데 만약 클릭할 더보기 버튼이 없으면 오류가 뜹니다. 그래서 제가 try, except라는 것을 이용해서 \n",
    "#예외 처리를 해줄 것입니다."
   ]
  },
  {
   "cell_type": "markdown",
   "id": "e378375d",
   "metadata": {},
   "source": [
    "# 예외처리\n",
    "- 오류가 나기전까지 코드를 시도\n",
    "- 오류가 나면 오류코드가 아니고 다른 로직을 실행\n",
    "- try, except"
   ]
  },
  {
   "cell_type": "code",
   "execution_count": 50,
   "id": "4a6e38f4",
   "metadata": {},
   "outputs": [
    {
     "name": "stdout",
     "output_type": "stream",
     "text": [
      "더보기 버튼이 존재하지 않습니다.\n"
     ]
    },
    {
     "name": "stderr",
     "output_type": "stream",
     "text": [
      "C:\\Users\\Public\\Documents\\ESTsoft\\CreatorTemp/ipykernel_24564/127287671.py:4: DeprecationWarning: find_element_by_css_selector is deprecated. Please use find_element(by=By.CSS_SELECTOR, value=css_selector) instead\n",
      "  btnMore = driver.find_element_by_css_selector(\"a.c_05\")\n"
     ]
    }
   ],
   "source": [
    "try:\n",
    "    #에러가 나기전까지 시도할 로직\n",
    "    for i in range(10):\n",
    "        btnMore = driver.find_element_by_css_selector(\"a.c_05\")\n",
    "        btnMore.click()\n",
    "        #time.sleep(\"몇초\") = 몇초동안 코드를 멈추겠다!\n",
    "        time.sleep(2)\n",
    "except:\n",
    "    #에러가 났을 때 실행될 로직\n",
    "    print(\"더보기 버튼이 존재하지 않습니다.\")"
   ]
  },
  {
   "cell_type": "code",
   "execution_count": 64,
   "id": "eb52466c",
   "metadata": {},
   "outputs": [
    {
     "name": "stderr",
     "output_type": "stream",
     "text": [
      "C:\\Users\\Public\\Documents\\ESTsoft\\CreatorTemp/ipykernel_24564/1792096663.py:1: DeprecationWarning: find_elements_by_css_selector is deprecated. Please use find_elements(by=By.CSS_SELECTOR, value=css_selector) instead\n",
      "  title = driver.find_elements_by_css_selector(\"h4.h.fz_03\")\n",
      "C:\\Users\\Public\\Documents\\ESTsoft\\CreatorTemp/ipykernel_24564/1792096663.py:2: DeprecationWarning: find_elements_by_css_selector is deprecated. Please use find_elements(by=By.CSS_SELECTOR, value=css_selector) instead\n",
      "  price = driver.find_elements_by_css_selector(\"div.item-price > strong\")\n"
     ]
    }
   ],
   "source": [
    "title = driver.find_elements_by_css_selector(\"h4.h.fz_03\")\n",
    "price = driver.find_elements_by_css_selector(\"div.item-price > strong\")"
   ]
  },
  {
   "cell_type": "code",
   "execution_count": 62,
   "id": "c3269584",
   "metadata": {},
   "outputs": [
    {
     "data": {
      "text/plain": [
       "102"
      ]
     },
     "execution_count": 62,
     "metadata": {},
     "output_type": "execute_result"
    }
   ],
   "source": [
    "len(title)"
   ]
  },
  {
   "cell_type": "code",
   "execution_count": 65,
   "id": "22fdc43c",
   "metadata": {},
   "outputs": [
    {
     "data": {
      "text/plain": [
       "102"
      ]
     },
     "execution_count": 65,
     "metadata": {},
     "output_type": "execute_result"
    }
   ],
   "source": [
    "len(price)"
   ]
  },
  {
   "cell_type": "code",
   "execution_count": 66,
   "id": "bd355306",
   "metadata": {},
   "outputs": [],
   "source": [
    "# title, price 리스트 제작 완료\n",
    "# 비어있는 리스트에 순수한 텍스트정보만 저장\n",
    "titleList = []\n",
    "priceList = []\n",
    "for i in range(len(title)):\n",
    "    titleList.append(title[i].text)\n",
    "    priceList.append(price[i].text)"
   ]
  },
  {
   "cell_type": "code",
   "execution_count": 67,
   "id": "b7060480",
   "metadata": {},
   "outputs": [],
   "source": [
    "data = {\"메뉴명\": titleList, \"가격\": priceList}"
   ]
  },
  {
   "cell_type": "code",
   "execution_count": 68,
   "id": "aacea489",
   "metadata": {},
   "outputs": [
    {
     "data": {
      "text/html": [
       "<div>\n",
       "<style scoped>\n",
       "    .dataframe tbody tr th:only-of-type {\n",
       "        vertical-align: middle;\n",
       "    }\n",
       "\n",
       "    .dataframe tbody tr th {\n",
       "        vertical-align: top;\n",
       "    }\n",
       "\n",
       "    .dataframe thead th {\n",
       "        text-align: right;\n",
       "    }\n",
       "</style>\n",
       "<table border=\"1\" class=\"dataframe\">\n",
       "  <thead>\n",
       "    <tr style=\"text-align: right;\">\n",
       "      <th></th>\n",
       "      <th>메뉴명</th>\n",
       "      <th>가격</th>\n",
       "    </tr>\n",
       "  </thead>\n",
       "  <tbody>\n",
       "    <tr>\n",
       "      <th>0</th>\n",
       "      <td>[행사] 숯불직화구이 덮밥</td>\n",
       "      <td>4,900</td>\n",
       "    </tr>\n",
       "    <tr>\n",
       "      <th>1</th>\n",
       "      <td>[행사] 진달래</td>\n",
       "      <td>6,500</td>\n",
       "    </tr>\n",
       "    <tr>\n",
       "      <th>2</th>\n",
       "      <td>[행사] 시골제육 두부강된장 비빔밥</td>\n",
       "      <td>4,300</td>\n",
       "    </tr>\n",
       "    <tr>\n",
       "      <th>3</th>\n",
       "      <td>[행사] 소불고기 감초고추장 비빔밥</td>\n",
       "      <td>4,500</td>\n",
       "    </tr>\n",
       "    <tr>\n",
       "      <th>4</th>\n",
       "      <td>[행사] 동백</td>\n",
       "      <td>5,100</td>\n",
       "    </tr>\n",
       "    <tr>\n",
       "      <th>...</th>\n",
       "      <td>...</td>\n",
       "      <td>...</td>\n",
       "    </tr>\n",
       "    <tr>\n",
       "      <th>97</th>\n",
       "      <td>무말랭이 무침</td>\n",
       "      <td>300</td>\n",
       "    </tr>\n",
       "    <tr>\n",
       "      <th>98</th>\n",
       "      <td>한솥밥</td>\n",
       "      <td>1,000</td>\n",
       "    </tr>\n",
       "    <tr>\n",
       "      <th>99</th>\n",
       "      <td>현미밥</td>\n",
       "      <td>1,700</td>\n",
       "    </tr>\n",
       "    <tr>\n",
       "      <th>100</th>\n",
       "      <td>리얼 티라미수 찰떡</td>\n",
       "      <td>1,500</td>\n",
       "    </tr>\n",
       "    <tr>\n",
       "      <th>101</th>\n",
       "      <td>리얼꿀 미니호떡</td>\n",
       "      <td>2,200</td>\n",
       "    </tr>\n",
       "  </tbody>\n",
       "</table>\n",
       "<p>102 rows × 2 columns</p>\n",
       "</div>"
      ],
      "text/plain": [
       "                     메뉴명     가격\n",
       "0         [행사] 숯불직화구이 덮밥  4,900\n",
       "1               [행사] 진달래  6,500\n",
       "2    [행사] 시골제육 두부강된장 비빔밥  4,300\n",
       "3    [행사] 소불고기 감초고추장 비빔밥  4,500\n",
       "4                [행사] 동백  5,100\n",
       "..                   ...    ...\n",
       "97               무말랭이 무침    300\n",
       "98                   한솥밥  1,000\n",
       "99                   현미밥  1,700\n",
       "100           리얼 티라미수 찰떡  1,500\n",
       "101             리얼꿀 미니호떡  2,200\n",
       "\n",
       "[102 rows x 2 columns]"
      ]
     },
     "execution_count": 68,
     "metadata": {},
     "output_type": "execute_result"
    }
   ],
   "source": [
    "pd.DataFrame(data)"
   ]
  },
  {
   "cell_type": "code",
   "execution_count": 69,
   "id": "c1522c7d",
   "metadata": {},
   "outputs": [],
   "source": [
    "food = pd.DataFrame(data)"
   ]
  },
  {
   "cell_type": "code",
   "execution_count": 70,
   "id": "3d5408a9",
   "metadata": {},
   "outputs": [],
   "source": [
    "food.to_csv(\"한솥.csv\", encoding=\"euc-kr\")"
   ]
  },
  {
   "cell_type": "code",
   "execution_count": null,
   "id": "bf6f746d",
   "metadata": {},
   "outputs": [],
   "source": []
  }
 ],
 "metadata": {
  "kernelspec": {
   "display_name": "Python 3 (ipykernel)",
   "language": "python",
   "name": "python3"
  },
  "language_info": {
   "codemirror_mode": {
    "name": "ipython",
    "version": 3
   },
   "file_extension": ".py",
   "mimetype": "text/x-python",
   "name": "python",
   "nbconvert_exporter": "python",
   "pygments_lexer": "ipython3",
   "version": "3.9.7"
  }
 },
 "nbformat": 4,
 "nbformat_minor": 5
}
