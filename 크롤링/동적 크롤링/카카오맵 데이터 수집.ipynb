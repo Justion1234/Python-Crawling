{
 "cells": [
  {
   "cell_type": "code",
   "execution_count": 1,
   "id": "a5acccaa",
   "metadata": {},
   "outputs": [],
   "source": [
    "from selenium import webdriver as wb\n",
    "from bs4 import BeautifulSoup as bs\n",
    "import time"
   ]
  },
  {
   "cell_type": "code",
   "execution_count": 13,
   "id": "08f1ac68",
   "metadata": {},
   "outputs": [],
   "source": [
    "driver = wb.Chrome()\n",
    "driver.get(\"https://map.kakao.com/\")"
   ]
  },
  {
   "cell_type": "code",
   "execution_count": 14,
   "id": "0a793908",
   "metadata": {},
   "outputs": [
    {
     "name": "stderr",
     "output_type": "stream",
     "text": [
      "C:\\Users\\Public\\Documents\\ESTsoft\\CreatorTemp/ipykernel_4612/1976145386.py:4: DeprecationWarning: find_element_by_css_selector is deprecated. Please use find_element(by=By.CSS_SELECTOR, value=css_selector) instead\n",
      "  img = driver.find_element_by_css_selector(\"div.inner_coach_layer\")\n"
     ]
    }
   ],
   "source": [
    "#1. 검색창의 위치를 알아오기!\n",
    "#2. 광주맛집이라는 키워드를 입력\n",
    "#3. 검색버튼 실행\n",
    "img = driver.find_element_by_css_selector(\"div.inner_coach_layer\")\n",
    "img.click()"
   ]
  },
  {
   "cell_type": "code",
   "execution_count": 15,
   "id": "a750985e",
   "metadata": {},
   "outputs": [
    {
     "name": "stderr",
     "output_type": "stream",
     "text": [
      "C:\\Users\\Public\\Documents\\ESTsoft\\CreatorTemp/ipykernel_4612/3812001675.py:4: DeprecationWarning: find_element_by_css_selector is deprecated. Please use find_element(by=By.CSS_SELECTOR, value=css_selector) instead\n",
      "  search = driver.find_element_by_css_selector(\"#search\\.keyword\\.query\")\n"
     ]
    }
   ],
   "source": [
    "#선택자 .키워드는 클래스값을 명시하는 방법\n",
    "#\".\"문자 점으로 인식하고 싶을 때는 \\ 넣어주면 해결 가능!\n",
    "\n",
    "search = driver.find_element_by_css_selector(\"#search\\.keyword\\.query\")"
   ]
  },
  {
   "cell_type": "code",
   "execution_count": 16,
   "id": "346278ed",
   "metadata": {},
   "outputs": [],
   "source": [
    "search.send_keys(\"서울 맛집\")"
   ]
  },
  {
   "cell_type": "code",
   "execution_count": 18,
   "id": "8029b653",
   "metadata": {},
   "outputs": [
    {
     "name": "stderr",
     "output_type": "stream",
     "text": [
      "C:\\Users\\Public\\Documents\\ESTsoft\\CreatorTemp/ipykernel_4612/638617734.py:1: DeprecationWarning: find_element_by_css_selector is deprecated. Please use find_element(by=By.CSS_SELECTOR, value=css_selector) instead\n",
      "  searchBtn = driver.find_element_by_css_selector(\"#search\\.keyword\\.submit\")\n"
     ]
    }
   ],
   "source": [
    "searchBtn = driver.find_element_by_css_selector(\"#search\\.keyword\\.submit\")\n",
    "searchBtn.click()"
   ]
  },
  {
   "cell_type": "code",
   "execution_count": 21,
   "id": "2d2fb844",
   "metadata": {},
   "outputs": [],
   "source": [
    "soup = bs(driver.page_source, \"lxml\")"
   ]
  },
  {
   "cell_type": "code",
   "execution_count": 23,
   "id": "0519f0ef",
   "metadata": {},
   "outputs": [],
   "source": [
    "title = soup.select(\"a.link_name\")"
   ]
  },
  {
   "cell_type": "code",
   "execution_count": 24,
   "id": "b5894b38",
   "metadata": {},
   "outputs": [
    {
     "name": "stdout",
     "output_type": "stream",
     "text": [
      "광고예담밥상\n",
      "명동교자 본점\n",
      "금돼지식당\n",
      "카페노티드 청담\n",
      "스케줄 청담\n",
      "중앙해장\n",
      "진미평양냉면\n",
      "카페노티드 서래\n",
      "삼청동수제비\n",
      "우래옥 본점\n",
      "블루보틀 성수 카페\n",
      "몽탄\n",
      "팀호완 삼성점\n",
      "청진옥 본점\n",
      "카페노티드 안국\n",
      "애플하우스(이수)\n"
     ]
    }
   ],
   "source": [
    "for i in title:\n",
    "    print(i.text)"
   ]
  },
  {
   "cell_type": "code",
   "execution_count": 27,
   "id": "33f91581",
   "metadata": {},
   "outputs": [],
   "source": [
    "#불필요한 광고요소를 추출해서 제거\n",
    "#extract()\n",
    "ad = soup.select(\"span.ico_ad\")\n",
    "for i in ad:\n",
    "    i.extract()"
   ]
  },
  {
   "cell_type": "code",
   "execution_count": 28,
   "id": "dec9b2e3",
   "metadata": {},
   "outputs": [
    {
     "name": "stdout",
     "output_type": "stream",
     "text": [
      "예담밥상\n",
      "명동교자 본점\n",
      "금돼지식당\n",
      "카페노티드 청담\n",
      "스케줄 청담\n",
      "중앙해장\n",
      "진미평양냉면\n",
      "카페노티드 서래\n",
      "삼청동수제비\n",
      "우래옥 본점\n",
      "블루보틀 성수 카페\n",
      "몽탄\n",
      "팀호완 삼성점\n",
      "청진옥 본점\n",
      "카페노티드 안국\n",
      "애플하우스(이수)\n"
     ]
    }
   ],
   "source": [
    "for i in title:\n",
    "    print(i.text)"
   ]
  },
  {
   "cell_type": "code",
   "execution_count": null,
   "id": "55886d14",
   "metadata": {},
   "outputs": [],
   "source": []
  }
 ],
 "metadata": {
  "kernelspec": {
   "display_name": "Python 3 (ipykernel)",
   "language": "python",
   "name": "python3"
  },
  "language_info": {
   "codemirror_mode": {
    "name": "ipython",
    "version": 3
   },
   "file_extension": ".py",
   "mimetype": "text/x-python",
   "name": "python",
   "nbconvert_exporter": "python",
   "pygments_lexer": "ipython3",
   "version": "3.9.7"
  }
 },
 "nbformat": 4,
 "nbformat_minor": 5
}
