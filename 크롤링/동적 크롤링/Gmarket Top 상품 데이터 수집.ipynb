{
 "cells": [
  {
   "cell_type": "code",
   "execution_count": 1,
   "id": "d0e3a4d4",
   "metadata": {},
   "outputs": [],
   "source": [
    "from selenium import webdriver as wb\n",
    "import time "
   ]
  },
  {
   "cell_type": "code",
   "execution_count": 2,
   "id": "4e51e038",
   "metadata": {},
   "outputs": [],
   "source": [
    "driver = wb.Chrome()\n",
    "driver.get(\"http://corners.gmarket.co.kr/Bestsellers\")"
   ]
  },
  {
   "cell_type": "code",
   "execution_count": 3,
   "id": "02d699b2",
   "metadata": {},
   "outputs": [
    {
     "name": "stderr",
     "output_type": "stream",
     "text": [
      "C:\\Users\\Public\\Documents\\ESTsoft\\CreatorTemp/ipykernel_7076/1579935839.py:2: DeprecationWarning: find_elements_by_css_selector is deprecated. Please use find_elements(by=By.CSS_SELECTOR, value=css_selector) instead\n",
      "  img = driver.find_elements_by_css_selector(\"img.lazy\")\n"
     ]
    }
   ],
   "source": [
    "#이미지태그들의 정보를 수집\n",
    "img = driver.find_elements_by_css_selector(\"img.lazy\")"
   ]
  },
  {
   "cell_type": "code",
   "execution_count": 4,
   "id": "9c9861cf",
   "metadata": {},
   "outputs": [
    {
     "data": {
      "text/plain": [
       "''"
      ]
     },
     "execution_count": 4,
     "metadata": {},
     "output_type": "execute_result"
    }
   ],
   "source": [
    "img[0].text"
   ]
  },
  {
   "cell_type": "code",
   "execution_count": 5,
   "id": "cd86bc89",
   "metadata": {},
   "outputs": [],
   "source": [
    "img[0].click()"
   ]
  },
  {
   "cell_type": "code",
   "execution_count": 8,
   "id": "ccf43334",
   "metadata": {},
   "outputs": [
    {
     "name": "stderr",
     "output_type": "stream",
     "text": [
      "C:\\Users\\Public\\Documents\\ESTsoft\\CreatorTemp/ipykernel_7076/1197633800.py:1: DeprecationWarning: find_element_by_css_selector is deprecated. Please use find_element(by=By.CSS_SELECTOR, value=css_selector) instead\n",
      "  title = driver.find_element_by_css_selector(\"h1.itemtit\").text\n"
     ]
    }
   ],
   "source": [
    "title = driver.find_element_by_css_selector(\"h1.itemtit\").text #상품 이름 가져오기"
   ]
  },
  {
   "cell_type": "code",
   "execution_count": 10,
   "id": "06a75a8b",
   "metadata": {},
   "outputs": [
    {
     "data": {
      "text/plain": [
       "'하림 밥싸먹는 닭가슴살 슬라이스 햄 43g 12봉'"
      ]
     },
     "execution_count": 10,
     "metadata": {},
     "output_type": "execute_result"
    }
   ],
   "source": [
    "title"
   ]
  },
  {
   "cell_type": "code",
   "execution_count": 13,
   "id": "16f98340",
   "metadata": {},
   "outputs": [
    {
     "name": "stderr",
     "output_type": "stream",
     "text": [
      "C:\\Users\\Public\\Documents\\ESTsoft\\CreatorTemp/ipykernel_7076/1718724013.py:1: DeprecationWarning: find_element_by_css_selector is deprecated. Please use find_element(by=By.CSS_SELECTOR, value=css_selector) instead\n",
      "  price = driver.find_element_by_css_selector(\"strong.price_real\").text #가격 정보 가져오기\n"
     ]
    }
   ],
   "source": [
    "price = driver.find_element_by_css_selector(\"strong.price_real\").text #가격 정보 가져오기"
   ]
  },
  {
   "cell_type": "code",
   "execution_count": 14,
   "id": "d29184cc",
   "metadata": {},
   "outputs": [
    {
     "data": {
      "text/plain": [
       "'9,900원'"
      ]
     },
     "execution_count": 14,
     "metadata": {},
     "output_type": "execute_result"
    }
   ],
   "source": [
    "price"
   ]
  },
  {
   "cell_type": "code",
   "execution_count": 15,
   "id": "c26be60a",
   "metadata": {},
   "outputs": [
    {
     "name": "stderr",
     "output_type": "stream",
     "text": [
      "C:\\Users\\Public\\Documents\\ESTsoft\\CreatorTemp/ipykernel_7076/1970394831.py:1: DeprecationWarning: find_element_by_css_selector is deprecated. Please use find_element(by=By.CSS_SELECTOR, value=css_selector) instead\n",
      "  cate = driver.find_element_by_css_selector(\"li.on > a\").text #상품 카테고리 가져오기\n"
     ]
    }
   ],
   "source": [
    "cate = driver.find_element_by_css_selector(\"li.on > a\").text #상품 카테고리 가져오기"
   ]
  },
  {
   "cell_type": "code",
   "execution_count": 16,
   "id": "cceb2295",
   "metadata": {},
   "outputs": [
    {
     "data": {
      "text/plain": [
       "'햄/소시지'"
      ]
     },
     "execution_count": 16,
     "metadata": {},
     "output_type": "execute_result"
    }
   ],
   "source": [
    "cate"
   ]
  },
  {
   "cell_type": "code",
   "execution_count": 17,
   "id": "f162734f",
   "metadata": {},
   "outputs": [],
   "source": [
    "#뒤로가기 버튼 실행\n",
    "driver.back()"
   ]
  },
  {
   "cell_type": "code",
   "execution_count": 19,
   "id": "2bc599e5",
   "metadata": {},
   "outputs": [
    {
     "name": "stderr",
     "output_type": "stream",
     "text": [
      "C:\\Users\\Public\\Documents\\ESTsoft\\CreatorTemp/ipykernel_7076/1976039890.py:7: DeprecationWarning: find_elements_by_css_selector is deprecated. Please use find_elements(by=By.CSS_SELECTOR, value=css_selector) instead\n",
      "  img = driver.find_elements_by_css_selector(\"img.lazy\")\n",
      "C:\\Users\\Public\\Documents\\ESTsoft\\CreatorTemp/ipykernel_7076/1976039890.py:10: DeprecationWarning: find_element_by_css_selector is deprecated. Please use find_element(by=By.CSS_SELECTOR, value=css_selector) instead\n",
      "  title = driver.find_element_by_css_selector(\"h1.itemtit\").text #상품 이름 가져오기\n",
      "C:\\Users\\Public\\Documents\\ESTsoft\\CreatorTemp/ipykernel_7076/1976039890.py:11: DeprecationWarning: find_element_by_css_selector is deprecated. Please use find_element(by=By.CSS_SELECTOR, value=css_selector) instead\n",
      "  price = driver.find_element_by_css_selector(\"strong.price_real\").text #가격 정보 가져오기\n",
      "C:\\Users\\Public\\Documents\\ESTsoft\\CreatorTemp/ipykernel_7076/1976039890.py:12: DeprecationWarning: find_element_by_css_selector is deprecated. Please use find_element(by=By.CSS_SELECTOR, value=css_selector) instead\n",
      "  cate = driver.find_element_by_css_selector(\"li.on > a\").text #상품 카테고리 가져오기\n"
     ]
    }
   ],
   "source": [
    "driver = wb.Chrome()\n",
    "time.sleep(0.5)\n",
    "driver.get(\"http://corners.gmarket.co.kr/Bestsellers\")\n",
    "time.sleep(1)\n",
    "for i in range(10):\n",
    "    #이미지태그들의 정보를 수집\n",
    "    img = driver.find_elements_by_css_selector(\"img.lazy\")\n",
    "    img[i].click()\n",
    "    time.sleep(2)\n",
    "    title = driver.find_element_by_css_selector(\"h1.itemtit\").text #상품 이름 가져오기\n",
    "    price = driver.find_element_by_css_selector(\"strong.price_real\").text #가격 정보 가져오기\n",
    "    cate = driver.find_element_by_css_selector(\"li.on > a\").text #상품 카테고리 가져오기\n",
    "    driver.back()\n",
    "    time.sleep(2)"
   ]
  },
  {
   "cell_type": "code",
   "execution_count": null,
   "id": "c7c67072",
   "metadata": {},
   "outputs": [],
   "source": []
  }
 ],
 "metadata": {
  "kernelspec": {
   "display_name": "Python 3 (ipykernel)",
   "language": "python",
   "name": "python3"
  },
  "language_info": {
   "codemirror_mode": {
    "name": "ipython",
    "version": 3
   },
   "file_extension": ".py",
   "mimetype": "text/x-python",
   "name": "python",
   "nbconvert_exporter": "python",
   "pygments_lexer": "ipython3",
   "version": "3.9.7"
  }
 },
 "nbformat": 4,
 "nbformat_minor": 5
}
