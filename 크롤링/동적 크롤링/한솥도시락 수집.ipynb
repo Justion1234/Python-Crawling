{
 "cells": [
  {
   "cell_type": "code",
   "execution_count": 19,
   "id": "e3cf2a33",
   "metadata": {},
   "outputs": [],
   "source": [
    "from selenium import webdriver as wb\n",
    "from selenium.webdriver.common.keys import Keys\n",
    "import time\n",
    "import pandas as pd"
   ]
  },
  {
   "cell_type": "code",
   "execution_count": 20,
   "id": "d86e2e1d",
   "metadata": {},
   "outputs": [],
   "source": [
    "driver = wb.Chrome()\n",
    "driver.get(\"https://www.hsd.co.kr/\")"
   ]
  },
  {
   "cell_type": "code",
   "execution_count": 6,
   "id": "40bde08c",
   "metadata": {},
   "outputs": [
    {
     "name": "stderr",
     "output_type": "stream",
     "text": [
      "C:\\Users\\Public\\Documents\\ESTsoft\\CreatorTemp/ipykernel_10456/3670894789.py:1: DeprecationWarning: find_element_by_css_selector is deprecated. Please use find_element(by=By.CSS_SELECTOR, value=css_selector) instead\n",
      "  driver.find_element_by_css_selector(\"div.dp2 > ul > li:nth-child(1) > a\").text\n"
     ]
    },
    {
     "data": {
      "text/plain": [
       "''"
      ]
     },
     "execution_count": 6,
     "metadata": {},
     "output_type": "execute_result"
    }
   ],
   "source": [
    "driver.find_element_by_css_selector(\"div.dp2 > ul > li:nth-child(1) > a\").text"
   ]
  },
  {
   "cell_type": "code",
   "execution_count": 1,
   "id": "6a11acc0",
   "metadata": {},
   "outputs": [],
   "source": [
    "#요소를 요청할 때 단수개인지 복수개인지를 꼭 한번 확인해줘야합니다.\n",
    "#driver.find_element_by_css_selector(\"div.dp2 > ul > li:nth-child(1) > a\").text\n",
    "#driver.find_elements_by_css_selector(\"div.dp2 > ul > li:nth-child(1) > a\")[0].text"
   ]
  },
  {
   "cell_type": "code",
   "execution_count": 21,
   "id": "37191bb4",
   "metadata": {},
   "outputs": [],
   "source": [
    "#이벤트를 제어하는 라이브러리\n",
    "# ex) 마우스를 올려두겠다. 클릭한 상태를 유지시키겠습니다. 드래그 앤 드롭\n",
    "from selenium.webdriver.common.action_chains import ActionChains"
   ]
  },
  {
   "cell_type": "code",
   "execution_count": 28,
   "id": "6603f967",
   "metadata": {},
   "outputs": [
    {
     "name": "stderr",
     "output_type": "stream",
     "text": [
      "C:\\Users\\Public\\Documents\\ESTsoft\\CreatorTemp/ipykernel_10456/2481581872.py:5: DeprecationWarning: find_element_by_css_selector is deprecated. Please use find_element(by=By.CSS_SELECTOR, value=css_selector) instead\n",
      "  elm_hover = driver.find_element_by_css_selector(\"#gnb > div.gnb_menu > ul > li:nth-child(3) > p > a\")\n",
      "C:\\Users\\Public\\Documents\\ESTsoft\\CreatorTemp/ipykernel_10456/2481581872.py:6: DeprecationWarning: find_element_by_css_selector is deprecated. Please use find_element(by=By.CSS_SELECTOR, value=css_selector) instead\n",
      "  elm_click = driver.find_element_by_css_selector(\"#gnb > div.gnb_menu > ul > li:nth-child(3) > div > ul > li:nth-child(1) > a\")\n"
     ]
    }
   ],
   "source": [
    "#가져올 요소들\n",
    "\n",
    "#1. 마우스를 올릴 요소(메뉴)\n",
    "#2. 클릭할 요소(전체 메뉴)\n",
    "elm_hover = driver.find_element_by_css_selector(\"#gnb > div.gnb_menu > ul > li:nth-child(3) > p > a\")\n",
    "elm_click = driver.find_element_by_css_selector(\"#gnb > div.gnb_menu > ul > li:nth-child(3) > div > ul > li:nth-child(1) > a\")\n",
    "                                              "
   ]
  },
  {
   "cell_type": "code",
   "execution_count": 29,
   "id": "94069d56",
   "metadata": {},
   "outputs": [],
   "source": [
    "#actions에는 제가 드라이버를 통해서 제어할 수 있게 담아 놓은 하나의 하나의 공간입니다.\n",
    "actions = ActionChains(driver)\n",
    "actions.move_to_element(elm_hover)\n",
    "actions.click(elm_click)\n",
    "actions.perform( )"
   ]
  }
 ],
 "metadata": {
  "kernelspec": {
   "display_name": "Python 3 (ipykernel)",
   "language": "python",
   "name": "python3"
  },
  "language_info": {
   "codemirror_mode": {
    "name": "ipython",
    "version": 3
   },
   "file_extension": ".py",
   "mimetype": "text/x-python",
   "name": "python",
   "nbconvert_exporter": "python",
   "pygments_lexer": "ipython3",
   "version": "3.9.7"
  }
 },
 "nbformat": 4,
 "nbformat_minor": 5
}
