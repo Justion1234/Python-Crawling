{
 "cells": [
  {
   "cell_type": "code",
   "execution_count": 5,
   "id": "a50117cd",
   "metadata": {},
   "outputs": [],
   "source": [
    "import requests as req\n",
    "from bs4 import BeautifulSoup as bs"
   ]
  },
  {
   "cell_type": "code",
   "execution_count": 7,
   "id": "d8cfd17c",
   "metadata": {},
   "outputs": [
    {
     "data": {
      "text/plain": [
       "<Response [200]>"
      ]
     },
     "execution_count": 7,
     "metadata": {},
     "output_type": "execute_result"
    }
   ],
   "source": [
    "req.get(\"https://movie.naver.com/movie/bi/mi/basic.naver?code=81888\")"
   ]
  },
  {
   "cell_type": "code",
   "execution_count": null,
   "id": "bcd71aba",
   "metadata": {},
   "outputs": [],
   "source": [
    "res = req.get(\"https://movie.naver.com/movie/bi/mi/basic.naver?code=81888\")"
   ]
  },
  {
   "cell_type": "code",
   "execution_count": 11,
   "id": "ae6bc722",
   "metadata": {},
   "outputs": [],
   "source": [
    "soup = bs(res.text, \"lxml\")"
   ]
  },
  {
   "cell_type": "code",
   "execution_count": 14,
   "id": "76bd9960",
   "metadata": {},
   "outputs": [
    {
     "data": {
      "text/plain": [
       "[]"
      ]
     },
     "execution_count": 14,
     "metadata": {},
     "output_type": "execute_result"
    }
   ],
   "source": [
    "#영화 관람객들의 리뷰 데이터를 수집\n",
    "soup.select(\"div.score_reple > p > span\")"
   ]
  },
  {
   "cell_type": "code",
   "execution_count": 16,
   "id": "b520dea6",
   "metadata": {},
   "outputs": [
    {
     "data": {
      "text/plain": [
       "[<p>\n",
       " <!-- 스포일러 컨텐츠로 처리되는지 여부 -->\n",
       " \t\t\t\t\t\t\t\t\t\t\t\t\t\t\n",
       " \t\t\t\t\t\t\t\t\t\t\t\t\t\t\n",
       " \t\t\t\t\t\t\t\t\t\t\t\t\t\t\n",
       " \t\t\t\t\t\t\t\t\t\t\t\t\t\t\n",
       " \t\t\t\t\t\t\t\t\t\t\t\t\t\t\t\n",
       " \t\t\t\t\t\t\t\t\t\t\t\t\t\t\t\n",
       " \t\t\t\t\t\t\t\t\t\t\t\t\t\t\t\t평점 잘 안주는데 만점 줄려고 왔다 \n",
       " \t\t\t\t\t\t\t\t\t\t\t\t\t\t\t\n",
       " \t\t\t\t\t\t\t\t\t\t\t\t\t\t\n",
       " \t\t\t\t\t\t\t\t\t\t\t\t\t\t\n",
       " \t\t\t\t\t\t\t\t\t\t\t\t\t</p>,\n",
       " <p>\n",
       " <!-- 스포일러 컨텐츠로 처리되는지 여부 -->\n",
       " \t\t\t\t\t\t\t\t\t\t\t\t\t\t\n",
       " \t\t\t\t\t\t\t\t\t\t\t\t\t\t\n",
       " \t\t\t\t\t\t\t\t\t\t\t\t\t\t\n",
       " \t\t\t\t\t\t\t\t\t\t\t\t\t\t\n",
       " \t\t\t\t\t\t\t\t\t\t\t\t\t\t\t\n",
       " \t\t\t\t\t\t\t\t\t\t\t\t\t\t\t\n",
       " \t\t\t\t\t\t\t\t\t\t\t\t\t\t\t\t영화관이 필요한 이유 \n",
       " \t\t\t\t\t\t\t\t\t\t\t\t\t\t\t\n",
       " \t\t\t\t\t\t\t\t\t\t\t\t\t\t\n",
       " \t\t\t\t\t\t\t\t\t\t\t\t\t\t\n",
       " \t\t\t\t\t\t\t\t\t\t\t\t\t</p>,\n",
       " <p>\n",
       " <!-- 스포일러 컨텐츠로 처리되는지 여부 -->\n",
       " \t\t\t\t\t\t\t\t\t\t\t\t\t\t\n",
       " \t\t\t\t\t\t\t\t\t\t\t\t\t\t\n",
       " \t\t\t\t\t\t\t\t\t\t\t\t\t\t\n",
       " \t\t\t\t\t\t\t\t\t\t\t\t\t\t\n",
       " \t\t\t\t\t\t\t\t\t\t\t\t\t\t\t\n",
       " \t\t\t\t\t\t\t\t\t\t\t\t\t\t\t\n",
       " \t\t\t\t\t\t\t\t\t\t\t\t\t\t\t\t중국 애들은 불쌍타 나라 잘못 만나서 이런 영화를 극장에서 못보다니 ㅋㅋ \n",
       " \t\t\t\t\t\t\t\t\t\t\t\t\t\t\t\n",
       " \t\t\t\t\t\t\t\t\t\t\t\t\t\t\n",
       " \t\t\t\t\t\t\t\t\t\t\t\t\t\t\n",
       " \t\t\t\t\t\t\t\t\t\t\t\t\t</p>,\n",
       " <p>\n",
       " <!-- 스포일러 컨텐츠로 처리되는지 여부 -->\n",
       " \t\t\t\t\t\t\t\t\t\t\t\t\t\t\n",
       " \t\t\t\t\t\t\t\t\t\t\t\t\t\t\n",
       " \t\t\t\t\t\t\t\t\t\t\t\t\t\t\n",
       " \t\t\t\t\t\t\t\t\t\t\t\t\t\t\n",
       " \t\t\t\t\t\t\t\t\t\t\t\t\t\t\t\n",
       " \t\t\t\t\t\t\t\t\t\t\t\t\t\t\t\n",
       " \t\t\t\t\t\t\t\t\t\t\t\t\t\t\t\t감동의눈물 나올정도입니다. 평점10점급임.  내가 전투기 탄 기분이였음 \n",
       " \t\t\t\t\t\t\t\t\t\t\t\t\t\t\t\n",
       " \t\t\t\t\t\t\t\t\t\t\t\t\t\t\n",
       " \t\t\t\t\t\t\t\t\t\t\t\t\t\t\n",
       " \t\t\t\t\t\t\t\t\t\t\t\t\t</p>,\n",
       " <p>\n",
       " <!-- 스포일러 컨텐츠로 처리되는지 여부 -->\n",
       " \t\t\t\t\t\t\t\t\t\t\t\t\t\t\n",
       " \t\t\t\t\t\t\t\t\t\t\t\t\t\t\n",
       " \t\t\t\t\t\t\t\t\t\t\t\t\t\t\n",
       " \t\t\t\t\t\t\t\t\t\t\t\t\t\t\n",
       " \t\t\t\t\t\t\t\t\t\t\t\t\t\t\t\n",
       " \t\t\t\t\t\t\t\t\t\t\t\t\t\t\t\n",
       " \t\t\t\t\t\t\t\t\t\t\t\t\t\t\t\t탑건1(1986년)의 36년만의 나온 속편. 매우 만족 스러웠고 매우 재밌었다 무조건 특별관에서 봐야되는 영화 2022년 개봉작 영화중에서 범죄도시2 이후 2번째로 엄청 좋았던 영화 톰 크루즈 미모는 여전히 잘생겼다 1편을 보고 가야되는 질문에서 답을 하자면 1편 보고 가는게 더 좋다 감동도 2배 더 느낄 수 있음 \n",
       " \t\t\t\t\t\t\t\t\t\t\t\t\t\t\t\n",
       " \t\t\t\t\t\t\t\t\t\t\t\t\t\t\n",
       " \t\t\t\t\t\t\t\t\t\t\t\t\t\t\n",
       " \t\t\t\t\t\t\t\t\t\t\t\t\t</p>]"
      ]
     },
     "execution_count": 16,
     "metadata": {},
     "output_type": "execute_result"
    }
   ],
   "source": [
    "soup.select(\"div.score_reple > p\")"
   ]
  },
  {
   "cell_type": "code",
   "execution_count": 17,
   "id": "75d5fa0f",
   "metadata": {},
   "outputs": [],
   "source": [
    "res = req.get(\"https://movie.naver.com/movie/bi/mi/pointWriteFormList.naver?code=81888&type=after&isActualPointWriteExecute=false&isMileageSubscriptionAlready=false&isMileageSubscriptionReject=false\")"
   ]
  },
  {
   "cell_type": "code",
   "execution_count": 18,
   "id": "5a608083",
   "metadata": {},
   "outputs": [
    {
     "data": {
      "text/plain": [
       "<Response [200]>"
      ]
     },
     "execution_count": 18,
     "metadata": {},
     "output_type": "execute_result"
    }
   ],
   "source": [
    "res"
   ]
  },
  {
   "cell_type": "code",
   "execution_count": 19,
   "id": "3af98433",
   "metadata": {},
   "outputs": [],
   "source": [
    "soup = bs(res.text, \"lxml\")"
   ]
  },
  {
   "cell_type": "code",
   "execution_count": 23,
   "id": "fadea35a",
   "metadata": {},
   "outputs": [
    {
     "data": {
      "text/plain": [
       "[<p>\n",
       " <span class=\"ico_viewer\">관람객</span>\n",
       " <!-- 스포일러 컨텐츠로 처리되는지 여부 -->\n",
       " <span id=\"_filtered_ment_0\">\n",
       " \t\t\t\t\t\t\t\t\t\t\t\t\t\t\n",
       " \t\t\t\t\t\t\t\t\t\t\t\t\t\t\t\n",
       " \t\t\t\t\t\t\t\t\t\t\t\t\t\t\t\n",
       " \t\t\t\t\t\t\t\t\t\t\t\t\t\t\t\t평점 잘 안주는데 만점 줄려고 왔다 \n",
       " \t\t\t\t\t\t\t\t\t\t\t\t\t\t\t\n",
       " \t\t\t\t\t\t\t\t\t\t\t\t\t\t\n",
       " \t\t\t\t\t\t\t\t\t\t\t\t\t\t\n",
       " \t\t\t\t\t\t\t\t\t\t\t\t\t</span>\n",
       " </p>,\n",
       " <p>\n",
       " <span class=\"ico_viewer\">관람객</span>\n",
       " <!-- 스포일러 컨텐츠로 처리되는지 여부 -->\n",
       " <span id=\"_filtered_ment_1\">\n",
       " \t\t\t\t\t\t\t\t\t\t\t\t\t\t\n",
       " \t\t\t\t\t\t\t\t\t\t\t\t\t\t\t\n",
       " \t\t\t\t\t\t\t\t\t\t\t\t\t\t\t\n",
       " \t\t\t\t\t\t\t\t\t\t\t\t\t\t\t\t영화관이 필요한 이유 \n",
       " \t\t\t\t\t\t\t\t\t\t\t\t\t\t\t\n",
       " \t\t\t\t\t\t\t\t\t\t\t\t\t\t\n",
       " \t\t\t\t\t\t\t\t\t\t\t\t\t\t\n",
       " \t\t\t\t\t\t\t\t\t\t\t\t\t</span>\n",
       " </p>,\n",
       " <p>\n",
       " <span class=\"ico_viewer\">관람객</span>\n",
       " <!-- 스포일러 컨텐츠로 처리되는지 여부 -->\n",
       " <span id=\"_filtered_ment_2\">\n",
       " \t\t\t\t\t\t\t\t\t\t\t\t\t\t\n",
       " \t\t\t\t\t\t\t\t\t\t\t\t\t\t\t\n",
       " \t\t\t\t\t\t\t\t\t\t\t\t\t\t\t\n",
       " \t\t\t\t\t\t\t\t\t\t\t\t\t\t\t\t중국 애들은 불쌍타 나라 잘못 만나서 이런 영화를 극장에서 못보다니 ㅋㅋ \n",
       " \t\t\t\t\t\t\t\t\t\t\t\t\t\t\t\n",
       " \t\t\t\t\t\t\t\t\t\t\t\t\t\t\n",
       " \t\t\t\t\t\t\t\t\t\t\t\t\t\t\n",
       " \t\t\t\t\t\t\t\t\t\t\t\t\t</span>\n",
       " </p>,\n",
       " <p>\n",
       " <span class=\"ico_viewer\">관람객</span>\n",
       " <!-- 스포일러 컨텐츠로 처리되는지 여부 -->\n",
       " <span id=\"_filtered_ment_3\">\n",
       " \t\t\t\t\t\t\t\t\t\t\t\t\t\t\n",
       " \t\t\t\t\t\t\t\t\t\t\t\t\t\t\t\n",
       " \t\t\t\t\t\t\t\t\t\t\t\t\t\t\t\n",
       " \t\t\t\t\t\t\t\t\t\t\t\t\t\t\t\t감동의눈물 나올정도입니다. 평점10점급임.  내가 전투기 탄 기분이였음 \n",
       " \t\t\t\t\t\t\t\t\t\t\t\t\t\t\t\n",
       " \t\t\t\t\t\t\t\t\t\t\t\t\t\t\n",
       " \t\t\t\t\t\t\t\t\t\t\t\t\t\t\n",
       " \t\t\t\t\t\t\t\t\t\t\t\t\t</span>\n",
       " </p>,\n",
       " <p>\n",
       " <span class=\"ico_viewer\">관람객</span>\n",
       " <!-- 스포일러 컨텐츠로 처리되는지 여부 -->\n",
       " <span id=\"_filtered_ment_4\">\n",
       " <span class=\"_unfold_ment\" id=\"_unfold_ment4\">\n",
       " <a data-src=\"탑건1(1986년)의 36년만의 나온 속편. 매우 만족 스러웠고 매우 재밌었다 무조건 특별관에서 봐야되는 영화 2022년 개봉작 영화중에서 범죄도시2 이후 2번째로 엄청 좋았던 영화 톰 크루즈 미모는 여전히 잘생겼다 1편을 보고 가야되는 질문에서 답을 하자면 1편 보고 가는게 더 좋다 감동도 2배 더 느낄 수 있음 \" href=\"javascript:void(0);\" onclick=\"unfoldPointMent(this);\">\n",
       " \t\t\t\t\t\t\t\t\t\t\t\t\t\t\t\t\t\t탑건1(1986년)의 36년만의 나온 속편. 매우 만족 스러웠고 매우 재밌었다 무조건 특별관에서 봐야되는 영화 2022년 개봉작 영화중에서 범죄도시2 이후 2번째로 엄청 좋았던 영화 톰 크루즈 미모는 여전히 잘생겼다...\n",
       " \t\t\t\t\t\t\t\t\t\t\t\t\t\t\t\t\t</a>\n",
       " </span>\n",
       " </span>\n",
       " </p>,\n",
       " <p>\n",
       " <span class=\"ico_viewer\">관람객</span>\n",
       " <!-- 스포일러 컨텐츠로 처리되는지 여부 -->\n",
       " <span id=\"_filtered_ment_5\">\n",
       " \t\t\t\t\t\t\t\t\t\t\t\t\t\t\n",
       " \t\t\t\t\t\t\t\t\t\t\t\t\t\t\t\n",
       " \t\t\t\t\t\t\t\t\t\t\t\t\t\t\t\n",
       " \t\t\t\t\t\t\t\t\t\t\t\t\t\t\t\t이 시대의 마지막 액션스타, \"톰 크루즈\" \n",
       " \t\t\t\t\t\t\t\t\t\t\t\t\t\t\t\n",
       " \t\t\t\t\t\t\t\t\t\t\t\t\t\t\n",
       " \t\t\t\t\t\t\t\t\t\t\t\t\t\t\n",
       " \t\t\t\t\t\t\t\t\t\t\t\t\t</span>\n",
       " </p>,\n",
       " <p>\n",
       " <span class=\"ico_viewer\">관람객</span>\n",
       " <!-- 스포일러 컨텐츠로 처리되는지 여부 -->\n",
       " <span id=\"_filtered_ment_6\">\n",
       " \t\t\t\t\t\t\t\t\t\t\t\t\t\t\n",
       " \t\t\t\t\t\t\t\t\t\t\t\t\t\t\t\n",
       " \t\t\t\t\t\t\t\t\t\t\t\t\t\t\t\n",
       " \t\t\t\t\t\t\t\t\t\t\t\t\t\t\t\t다른 말이 필요한가 레.전.드 \n",
       " \t\t\t\t\t\t\t\t\t\t\t\t\t\t\t\n",
       " \t\t\t\t\t\t\t\t\t\t\t\t\t\t\n",
       " \t\t\t\t\t\t\t\t\t\t\t\t\t\t\n",
       " \t\t\t\t\t\t\t\t\t\t\t\t\t</span>\n",
       " </p>,\n",
       " <p>\n",
       " <span class=\"ico_viewer\">관람객</span>\n",
       " <!-- 스포일러 컨텐츠로 처리되는지 여부 -->\n",
       " <span id=\"_filtered_ment_7\">\n",
       " \t\t\t\t\t\t\t\t\t\t\t\t\t\t\n",
       " \t\t\t\t\t\t\t\t\t\t\t\t\t\t\t\n",
       " \t\t\t\t\t\t\t\t\t\t\t\t\t\t\t\n",
       " \t\t\t\t\t\t\t\t\t\t\t\t\t\t\t\t개쩐다 말이 필요없음 직접확인 \n",
       " \t\t\t\t\t\t\t\t\t\t\t\t\t\t\t\n",
       " \t\t\t\t\t\t\t\t\t\t\t\t\t\t\n",
       " \t\t\t\t\t\t\t\t\t\t\t\t\t\t\n",
       " \t\t\t\t\t\t\t\t\t\t\t\t\t</span>\n",
       " </p>,\n",
       " <p>\n",
       " <span class=\"ico_viewer\">관람객</span>\n",
       " <!-- 스포일러 컨텐츠로 처리되는지 여부 -->\n",
       " <span id=\"_filtered_ment_8\">\n",
       " \t\t\t\t\t\t\t\t\t\t\t\t\t\t\n",
       " \t\t\t\t\t\t\t\t\t\t\t\t\t\t\t\n",
       " \t\t\t\t\t\t\t\t\t\t\t\t\t\t\t\n",
       " \t\t\t\t\t\t\t\t\t\t\t\t\t\t\t\t감동까지 겸비한 최고의 블록버스터 \n",
       " \t\t\t\t\t\t\t\t\t\t\t\t\t\t\t\n",
       " \t\t\t\t\t\t\t\t\t\t\t\t\t\t\n",
       " \t\t\t\t\t\t\t\t\t\t\t\t\t\t\n",
       " \t\t\t\t\t\t\t\t\t\t\t\t\t</span>\n",
       " </p>,\n",
       " <p>\n",
       " <span class=\"ico_viewer\">관람객</span>\n",
       " <!-- 스포일러 컨텐츠로 처리되는지 여부 -->\n",
       " <span id=\"_filtered_ment_9\">\n",
       " \t\t\t\t\t\t\t\t\t\t\t\t\t\t\n",
       " \t\t\t\t\t\t\t\t\t\t\t\t\t\t\t\n",
       " \t\t\t\t\t\t\t\t\t\t\t\t\t\t\t\n",
       " \t\t\t\t\t\t\t\t\t\t\t\t\t\t\t\t지린다... 지려 할말이 없게 만듬.. \n",
       " \t\t\t\t\t\t\t\t\t\t\t\t\t\t\t\n",
       " \t\t\t\t\t\t\t\t\t\t\t\t\t\t\n",
       " \t\t\t\t\t\t\t\t\t\t\t\t\t\t\n",
       " \t\t\t\t\t\t\t\t\t\t\t\t\t</span>\n",
       " </p>]"
      ]
     },
     "execution_count": 23,
     "metadata": {},
     "output_type": "execute_result"
    }
   ],
   "source": [
    "soup.select(\"div.score_reple > p\")"
   ]
  },
  {
   "cell_type": "code",
   "execution_count": 24,
   "id": "d506a37b",
   "metadata": {},
   "outputs": [],
   "source": [
    "review = soup.select(\"div.score_reple > p\")"
   ]
  },
  {
   "cell_type": "code",
   "execution_count": 25,
   "id": "65ae911f",
   "metadata": {},
   "outputs": [
    {
     "name": "stdout",
     "output_type": "stream",
     "text": [
      "관람객\n",
      "\n",
      "\r\n",
      "\t\t\t\t\t\t\t\t\t\t\t\t\t\t\r\n",
      "\t\t\t\t\t\t\t\t\t\t\t\t\t\t\t\r\n",
      "\t\t\t\t\t\t\t\t\t\t\t\t\t\t\t\r\n",
      "\t\t\t\t\t\t\t\t\t\t\t\t\t\t\t\t평점 잘 안주는데 만점 줄려고 왔다\n",
      "관람객\n",
      "\n",
      "\r\n",
      "\t\t\t\t\t\t\t\t\t\t\t\t\t\t\r\n",
      "\t\t\t\t\t\t\t\t\t\t\t\t\t\t\t\r\n",
      "\t\t\t\t\t\t\t\t\t\t\t\t\t\t\t\r\n",
      "\t\t\t\t\t\t\t\t\t\t\t\t\t\t\t\t영화관이 필요한 이유\n",
      "관람객\n",
      "\n",
      "\r\n",
      "\t\t\t\t\t\t\t\t\t\t\t\t\t\t\r\n",
      "\t\t\t\t\t\t\t\t\t\t\t\t\t\t\t\r\n",
      "\t\t\t\t\t\t\t\t\t\t\t\t\t\t\t\r\n",
      "\t\t\t\t\t\t\t\t\t\t\t\t\t\t\t\t중국 애들은 불쌍타 나라 잘못 만나서 이런 영화를 극장에서 못보다니 ㅋㅋ\n",
      "관람객\n",
      "\n",
      "\r\n",
      "\t\t\t\t\t\t\t\t\t\t\t\t\t\t\r\n",
      "\t\t\t\t\t\t\t\t\t\t\t\t\t\t\t\r\n",
      "\t\t\t\t\t\t\t\t\t\t\t\t\t\t\t\r\n",
      "\t\t\t\t\t\t\t\t\t\t\t\t\t\t\t\t감동의눈물 나올정도입니다. 평점10점급임.  내가 전투기 탄 기분이였음\n",
      "관람객\n",
      "\n",
      "\n",
      "\n",
      "\r\n",
      "\t\t\t\t\t\t\t\t\t\t\t\t\t\t\t\t\t\t탑건1(1986년)의 36년만의 나온 속편. 매우 만족 스러웠고 매우 재밌었다 무조건 특별관에서 봐야되는 영화 2022년 개봉작 영화중에서 범죄도시2 이후 2번째로 엄청 좋았던 영화 톰 크루즈 미모는 여전히 잘생겼다...\n",
      "관람객\n",
      "\n",
      "\r\n",
      "\t\t\t\t\t\t\t\t\t\t\t\t\t\t\r\n",
      "\t\t\t\t\t\t\t\t\t\t\t\t\t\t\t\r\n",
      "\t\t\t\t\t\t\t\t\t\t\t\t\t\t\t\r\n",
      "\t\t\t\t\t\t\t\t\t\t\t\t\t\t\t\t이 시대의 마지막 액션스타, \"톰 크루즈\"\n",
      "관람객\n",
      "\n",
      "\r\n",
      "\t\t\t\t\t\t\t\t\t\t\t\t\t\t\r\n",
      "\t\t\t\t\t\t\t\t\t\t\t\t\t\t\t\r\n",
      "\t\t\t\t\t\t\t\t\t\t\t\t\t\t\t\r\n",
      "\t\t\t\t\t\t\t\t\t\t\t\t\t\t\t\t다른 말이 필요한가 레.전.드\n",
      "관람객\n",
      "\n",
      "\r\n",
      "\t\t\t\t\t\t\t\t\t\t\t\t\t\t\r\n",
      "\t\t\t\t\t\t\t\t\t\t\t\t\t\t\t\r\n",
      "\t\t\t\t\t\t\t\t\t\t\t\t\t\t\t\r\n",
      "\t\t\t\t\t\t\t\t\t\t\t\t\t\t\t\t개쩐다 말이 필요없음 직접확인\n",
      "관람객\n",
      "\n",
      "\r\n",
      "\t\t\t\t\t\t\t\t\t\t\t\t\t\t\r\n",
      "\t\t\t\t\t\t\t\t\t\t\t\t\t\t\t\r\n",
      "\t\t\t\t\t\t\t\t\t\t\t\t\t\t\t\r\n",
      "\t\t\t\t\t\t\t\t\t\t\t\t\t\t\t\t감동까지 겸비한 최고의 블록버스터\n",
      "관람객\n",
      "\n",
      "\r\n",
      "\t\t\t\t\t\t\t\t\t\t\t\t\t\t\r\n",
      "\t\t\t\t\t\t\t\t\t\t\t\t\t\t\t\r\n",
      "\t\t\t\t\t\t\t\t\t\t\t\t\t\t\t\r\n",
      "\t\t\t\t\t\t\t\t\t\t\t\t\t\t\t\t지린다... 지려 할말이 없게 만듬..\n"
     ]
    }
   ],
   "source": [
    "#순수하게 글자만 출력 <- 반복문을 통해서\n",
    "for i in review:\n",
    "    print(i.text.strip())\n",
    "    #불필요한 개행문자(엔터) 삭제하는 방법 strip()\n",
    "    \n",
    "    \n"
   ]
  },
  {
   "cell_type": "code",
   "execution_count": 27,
   "id": "34783367",
   "metadata": {},
   "outputs": [],
   "source": [
    "viewer = soup.select(\"span.ico_viewer\")"
   ]
  },
  {
   "cell_type": "code",
   "execution_count": 28,
   "id": "76436cd2",
   "metadata": {},
   "outputs": [],
   "source": [
    "#불필요한 데이터(요소) 추출해서 제거하는 메소드\n",
    "#extract()\n",
    "for i in viewer:\n",
    "    i.extract()"
   ]
  },
  {
   "cell_type": "code",
   "execution_count": 32,
   "id": "64ae0cbc",
   "metadata": {},
   "outputs": [
    {
     "name": "stdout",
     "output_type": "stream",
     "text": [
      "평점 잘 안주는데 만점 줄려고 왔다\n",
      "영화관이 필요한 이유\n",
      "중국 애들은 불쌍타 나라 잘못 만나서 이런 영화를 극장에서 못보다니 ㅋㅋ\n",
      "감동의눈물 나올정도입니다. 평점10점급임.  내가 전투기 탄 기분이였음\n",
      "탑건1(1986년)의 36년만의 나온 속편. 매우 만족 스러웠고 매우 재밌었다 무조건 특별관에서 봐야되는 영화 2022년 개봉작 영화중에서 범죄도시2 이후 2번째로 엄청 좋았던 영화 톰 크루즈 미모는 여전히 잘생겼다...\n",
      "이 시대의 마지막 액션스타, \"톰 크루즈\"\n",
      "다른 말이 필요한가 레.전.드\n",
      "개쩐다 말이 필요없음 직접확인\n",
      "감동까지 겸비한 최고의 블록버스터\n",
      "지린다... 지려 할말이 없게 만듬..\n"
     ]
    }
   ],
   "source": [
    "for i in review:\n",
    "    print(i.text.strip())"
   ]
  }
 ],
 "metadata": {
  "kernelspec": {
   "display_name": "Python 3 (ipykernel)",
   "language": "python",
   "name": "python3"
  },
  "language_info": {
   "codemirror_mode": {
    "name": "ipython",
    "version": 3
   },
   "file_extension": ".py",
   "mimetype": "text/x-python",
   "name": "python",
   "nbconvert_exporter": "python",
   "pygments_lexer": "ipython3",
   "version": "3.9.7"
  }
 },
 "nbformat": 4,
 "nbformat_minor": 5
}
